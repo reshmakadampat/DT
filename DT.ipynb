{
  "nbformat": 4,
  "nbformat_minor": 0,
  "metadata": {
    "colab": {
      "provenance": []
    },
    "kernelspec": {
      "name": "python3",
      "display_name": "Python 3"
    },
    "language_info": {
      "name": "python"
    }
  },
  "cells": [
    {
      "cell_type": "markdown",
      "source": [
        "## **Activity 1**"
      ],
      "metadata": {
        "id": "raJBB5Ic1_m1"
      }
    },
    {
      "cell_type": "code",
      "execution_count": null,
      "metadata": {
        "colab": {
          "base_uri": "https://localhost:8080/"
        },
        "id": "1vmY9ujC14H9",
        "outputId": "a9c90c45-34d8-406a-9190-be68939a821e"
      },
      "outputs": [
        {
          "output_type": "stream",
          "name": "stdout",
          "text": [
            "Enter age 1 3\n",
            "Enter age 2 4\n",
            "Enter age 3 5\n",
            "5 is largest\n",
            "3 is youngest\n"
          ]
        }
      ],
      "source": [
        "p=int(input('Enter age 1 '))\n",
        "q=int(input('Enter age 2 '))\n",
        "r=int(input('Enter age 3 '))\n",
        "if(p>q and p>r):\n",
        "  print(f'{p} is largest')\n",
        "elif(q>p and q>r):\n",
        "  print(f'{q} is largest')\n",
        "else:\n",
        "  print(f'{r} is largest')\n",
        "if(p<q and p<r):\n",
        "  print(f'{p} is youngest')\n",
        "elif(q<p and q<\n",
        "     r):\n",
        "  print(f'{q} is youngest')\n",
        "else:\n",
        "  print(f'{r} is youngest')"
      ]
    },
    {
      "cell_type": "markdown",
      "source": [
        "# **Activity 2**"
      ],
      "metadata": {
        "id": "459S2xVAHQl5"
      }
    },
    {
      "cell_type": "code",
      "source": [
        "mark=int(input('Enter ur mark '))\n",
        "if(mark>=90):\n",
        "  print('A')\n",
        "elif(mark>=80):\n",
        "  print('B')\n",
        "elif(mark>=70):\n",
        "  print('C')\n",
        "else:\n",
        "  print('F')"
      ],
      "metadata": {
        "colab": {
          "base_uri": "https://localhost:8080/"
        },
        "id": "N9smXOkp5U2L",
        "outputId": "b13d0c37-1b41-4dae-a630-14e257fcf890"
      },
      "execution_count": null,
      "outputs": [
        {
          "output_type": "stream",
          "name": "stdout",
          "text": [
            "Enter ur mark 69\n",
            "F\n"
          ]
        }
      ]
    },
    {
      "cell_type": "markdown",
      "source": [
        "# **Activity 3**"
      ],
      "metadata": {
        "id": "YXLKHaK3HYq1"
      }
    },
    {
      "cell_type": "code",
      "source": [
        "size=int(input('How many elements do u want in ur list? '))\n",
        "list1=[]\n",
        "for i in range(1,size+1):\n",
        "  l=(input('Enter ur list element '))\n",
        "  list1.append(l)\n",
        "list1.sort()\n",
        "list1"
      ],
      "metadata": {
        "colab": {
          "base_uri": "https://localhost:8080/"
        },
        "id": "a0UbPUG86g33",
        "outputId": "945158c4-cce9-4727-9c9a-199b36aed68c"
      },
      "execution_count": null,
      "outputs": [
        {
          "name": "stdout",
          "output_type": "stream",
          "text": [
            "How many elements do u want in ur list? 4\n",
            "Enter ur list element apple\n",
            "Enter ur list element orange\n",
            "Enter ur list element banana\n",
            "Enter ur list element grapes\n"
          ]
        },
        {
          "output_type": "execute_result",
          "data": {
            "text/plain": [
              "['apple', 'banana', 'grapes', 'orange']"
            ]
          },
          "metadata": {},
          "execution_count": 16
        }
      ]
    },
    {
      "cell_type": "markdown",
      "source": [
        "# **Activity 4**"
      ],
      "metadata": {
        "id": "0ARDnLGfHevF"
      }
    },
    {
      "cell_type": "code",
      "source": [
        "domain=['mail.com','mail.cc','mail.org','mail-archive.com']\n",
        "flag=1\n",
        "while(flag==1):\n",
        "  mail=input('Enter ur mail ')\n",
        "  if(mail.count('@')!=True):\n",
        "    print(f\"The email address {mail} is not valid. Please enter a valid email address.\")\n",
        "    continue\n",
        "  local, d = mail.split(\"@\")\n",
        "  for dom in domain:\n",
        "            if d.endswith(dom):\n",
        "                flag=0\n",
        "                break\n",
        "  else:\n",
        "     print(f\"The email address {mail} is not valid. Please enter a valid email address.\")\n",
        "\n"
      ],
      "metadata": {
        "colab": {
          "base_uri": "https://localhost:8080/"
        },
        "id": "PWcngqUD7auP",
        "outputId": "ea2a0833-241d-4533-8ea1-b691b23c1a9c"
      },
      "execution_count": null,
      "outputs": [
        {
          "name": "stdout",
          "output_type": "stream",
          "text": [
            "Enter ur mail gdhts@tthhhhhh\n",
            "The email address gdhts@tthhhhhh is not valid. Please enter a valid email address.\n",
            "Enter ur mail gjgyg@d.com\n",
            "The email address gjgyg@d.com is not valid. Please enter a valid email address.\n",
            "Enter ur mail gyugygd@gmail.com\n"
          ]
        }
      ]
    },
    {
      "cell_type": "markdown",
      "source": [
        "# **Activity 5**"
      ],
      "metadata": {
        "id": "Py5JBCx4MkHw"
      }
    },
    {
      "cell_type": "code",
      "source": [
        "days=int(input('How many days delay? '))\n",
        "if(days<=7):\n",
        "  print('No fine')\n",
        "elif(days<=30):\n",
        "  print(days*2)\n",
        "elif(days>30):\n",
        "  print(days*5)"
      ],
      "metadata": {
        "colab": {
          "base_uri": "https://localhost:8080/"
        },
        "id": "mRbcZPVkDb0J",
        "outputId": "ba0ed25b-d791-4465-ed4b-7c2b14d8f13e"
      },
      "execution_count": null,
      "outputs": [
        {
          "output_type": "stream",
          "name": "stdout",
          "text": [
            "How many days delay? 20\n",
            "40\n"
          ]
        }
      ]
    },
    {
      "cell_type": "markdown",
      "source": [
        "# **Activity 6**"
      ],
      "metadata": {
        "id": "Hu6-NxFoMowL"
      }
    },
    {
      "cell_type": "code",
      "source": [
        "vowels=['a','e','i','o','u']\n",
        "chrtr=input('Enter a charactor ')\n",
        "for i in vowels:\n",
        "  if chrtr==i:\n",
        "    print('vowel')\n",
        "    break\n",
        "else:\n",
        "   print('Not a vowel')"
      ],
      "metadata": {
        "colab": {
          "base_uri": "https://localhost:8080/"
        },
        "id": "ETVaizAxMsnS",
        "outputId": "9e57f4dd-6669-4530-f688-9edd7a794713"
      },
      "execution_count": null,
      "outputs": [
        {
          "output_type": "stream",
          "name": "stdout",
          "text": [
            "Enter a charactor w\n",
            "Not a vowel\n"
          ]
        }
      ]
    },
    {
      "cell_type": "markdown",
      "source": [
        "# **Activity 7**"
      ],
      "metadata": {
        "id": "_jfzMEK4Oy1N"
      }
    },
    {
      "cell_type": "code",
      "source": [
        "num = int(input(\"Enter a number: \"))\n",
        "fact = 1\n",
        "for i in range(1,num+1):\n",
        "    fact*= i\n",
        "print(f\"The factorial of {num} is: {fact}\")"
      ],
      "metadata": {
        "colab": {
          "base_uri": "https://localhost:8080/"
        },
        "id": "bcDTAufyNaBx",
        "outputId": "11c46d9f-f017-499d-d7bb-7d2a051adb4a"
      },
      "execution_count": null,
      "outputs": [
        {
          "output_type": "stream",
          "name": "stdout",
          "text": [
            "Enter a number: 5\n",
            "The factorial of 5 is: 120\n"
          ]
        }
      ]
    },
    {
      "cell_type": "markdown",
      "source": [
        "# **Activity 8**"
      ],
      "metadata": {
        "id": "StdRFNTKQDzY"
      }
    },
    {
      "cell_type": "code",
      "source": [
        "lim= int(input(\"Enter the limit: \"))\n",
        "f=0\n",
        "s=1\n",
        "print(f)\n",
        "print(s)\n",
        "for i in range(1,lim-1):\n",
        "  t=f+s\n",
        "  f=s\n",
        "  s=t\n",
        "  print(t)\n"
      ],
      "metadata": {
        "colab": {
          "base_uri": "https://localhost:8080/"
        },
        "id": "26DklFTjQHs2",
        "outputId": "07b18022-f317-4545-895b-2df32301c353"
      },
      "execution_count": null,
      "outputs": [
        {
          "output_type": "stream",
          "name": "stdout",
          "text": [
            "Enter the limit: 8\n",
            "0\n",
            "1\n",
            "1\n",
            "2\n",
            "3\n",
            "5\n",
            "8\n",
            "13\n"
          ]
        }
      ]
    },
    {
      "cell_type": "markdown",
      "source": [
        "# **Activity 9**"
      ],
      "metadata": {
        "id": "tSaSO7IGRiha"
      }
    },
    {
      "cell_type": "code",
      "source": [
        "from random import randint\n",
        "f=randint(1,10)\n",
        "for i in range(3):\n",
        "  s=input(\"Enter a num \")\n",
        "  if(s==f):\n",
        "    print('good')\n",
        "    break\n",
        "print(f)"
      ],
      "metadata": {
        "id": "-lCU6rNBQ-vH",
        "colab": {
          "base_uri": "https://localhost:8080/"
        },
        "outputId": "45018120-394d-412c-f474-65e243a754ae"
      },
      "execution_count": null,
      "outputs": [
        {
          "output_type": "stream",
          "name": "stdout",
          "text": [
            "Enter a num 1\n",
            "Enter a num 2\n",
            "Enter a num 7\n",
            "6\n"
          ]
        }
      ]
    },
    {
      "cell_type": "markdown",
      "source": [
        "# **Activity 10**"
      ],
      "metadata": {
        "id": "bvCxLZIiR34L"
      }
    },
    {
      "cell_type": "code",
      "source": [
        "p=True\n",
        "n1=int(input('Enter the first number '))\n",
        "n2=int(input('Enter the second number '))\n",
        "for j in range(2):\n",
        " while(p):\n",
        "  print('add')\n",
        "  print('sub')\n",
        "  print('mul')\n",
        "  print('div')\n",
        "  print('exit')\n",
        "  op=input(\"Enter the operation of your choice: \")\n",
        "  if(op=='add'):\n",
        "   print(n1+n2)\n",
        "  elif(op=='sub'):\n",
        "   print(n1-n2)\n",
        "  elif(op=='mul'):\n",
        "   print(n1*n2)\n",
        "  elif(op=='div'):\n",
        "   print(n1/n2)\n",
        "  elif(op=='exit'):\n",
        "   p=False\n",
        "  else:\n",
        "     print('Select correct option')"
      ],
      "metadata": {
        "id": "y1QfNXwTR7oJ",
        "colab": {
          "base_uri": "https://localhost:8080/"
        },
        "outputId": "aa670e93-2efe-491f-ada1-0258b68ab791"
      },
      "execution_count": 73,
      "outputs": [
        {
          "name": "stdout",
          "output_type": "stream",
          "text": [
            "Enter the first number 3\n",
            "Enter the second number 6\n",
            "add\n",
            "sub\n",
            "mul\n",
            "div\n",
            "exit\n",
            "Enter the operation of your choice: add\n",
            "9\n",
            "add\n",
            "sub\n",
            "mul\n",
            "div\n",
            "exit\n",
            "Enter the operation of your choice: sub\n",
            "-3\n",
            "add\n",
            "sub\n",
            "mul\n",
            "div\n",
            "exit\n",
            "Enter the operation of your choice: mul\n",
            "18\n",
            "add\n",
            "sub\n",
            "mul\n",
            "div\n",
            "exit\n",
            "Enter the operation of your choice: div\n",
            "0.5\n",
            "add\n",
            "sub\n",
            "mul\n",
            "div\n",
            "exit\n",
            "Enter the operation of your choice: exit\n"
          ]
        }
      ]
    }
  ]
}